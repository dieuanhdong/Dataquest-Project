{
 "cells": [
  {
   "cell_type": "markdown",
   "metadata": {},
   "source": [
    "# Exploring Hacker News Posts"
   ]
  },
  {
   "cell_type": "markdown",
   "metadata": {},
   "source": [
    "In this project, we'll work with a data set of submissions to popular technology site Hacker News.\n",
    "We explore the data set of 20,000 rows about information of posts on website Hacker News. Below are descriptions of the columns:\n",
    "\n",
    "* id: The unique identifier from Hacker News for the post\n",
    "* title: The title of the post\n",
    "* url: The URL that the posts links to, if it the post has a URL\n",
    "* num_points: The number of points the post acquired, calculated as the total number of upvotes minus the total number of downvotes\n",
    "* num_comments: The number of comments that were made on the post\n",
    "* author: The username of the person who submitted the post\n",
    "* created_at: The date and time at which the post was submitted\n",
    "\n",
    "We're specifically interested in posts whose titles begin with either Ask HN or Show HN. \n",
    "* Users submit **Ask HN** posts to ask the Hacker News community a specific question. \n",
    "* Likewise, users submit **Show HN** posts to show the Hacker News community a project, product, or just generally something interesting.\n",
    "\n",
    "We'll compare these two types of posts to determine the following:\n",
    "\n",
    "*    Do Ask HN or Show HN receive more comments on average?\n",
    "*    Do posts created at a certain time receive more comments on average?\n"
   ]
  },
  {
   "cell_type": "markdown",
   "metadata": {},
   "source": [
    "**1. Open file and covert content to a list of lists**"
   ]
  },
  {
   "cell_type": "code",
   "execution_count": 1,
   "metadata": {},
   "outputs": [],
   "source": [
    "#Read hacker_news.csv file as a list of lists\n",
    "opened_file=open('HN_posts_year_to_Sep_26_2016.csv', encoding='utf8')\n",
    "from csv import reader\n",
    "read_file=reader(opened_file)\n",
    "hn=list(read_file)"
   ]
  },
  {
   "cell_type": "markdown",
   "metadata": {},
   "source": [
    "**2. Remove the first line and display it as the headers of dataset**"
   ]
  },
  {
   "cell_type": "code",
   "execution_count": 2,
   "metadata": {},
   "outputs": [
    {
     "name": "stdout",
     "output_type": "stream",
     "text": [
      "['id', 'title', 'url', 'num_points', 'num_comments', 'author', 'created_at']\n",
      "\n",
      "\n",
      "[['12579008', 'You have two days to comment if you want stem cells to be classified as your own', 'http://www.regulations.gov/document?D=FDA-2015-D-3719-0018', '1', '0', 'altstar', '9/26/2016 3:26'], ['12579005', 'SQLAR  the SQLite Archiver', 'https://www.sqlite.org/sqlar/doc/trunk/README.md', '1', '0', 'blacksqr', '9/26/2016 3:24'], ['12578997', 'What if we just printed a flatscreen television on the side of our boxes?', 'https://medium.com/vanmoof/our-secrets-out-f21c1f03fdc8#.ietxmez43', '1', '0', 'pavel_lishin', '9/26/2016 3:19'], ['12578989', 'algorithmic music', 'http://cacm.acm.org/magazines/2011/7/109891-algorithmic-composition/fulltext', '1', '0', 'poindontcare', '9/26/2016 3:16'], ['12578979', 'How the Data Vault Enables the Next-Gen Data Warehouse and Data Lake', 'https://www.talend.com/blog/2016/05/12/talend-and-Â\\x93the-data-vaultÂ\\x94', '1', '0', 'markgainor1', '9/26/2016 3:14']]\n"
     ]
    }
   ],
   "source": [
    "headers=hn[0]\n",
    "\n",
    "#Remove header form dataset\n",
    "hn=hn[1:]\n",
    "\n",
    "#Display headers of dataset\n",
    "print(headers)\n",
    "print('\\n')\n",
    "\n",
    "#Display first five rows of hn\n",
    "print(hn[:5])"
   ]
  },
  {
   "cell_type": "markdown",
   "metadata": {},
   "source": [
    "**3. Extracting Ask HN and Show HN Posts**\n",
    "\n",
    "We create new lists of lists containing just the data about posts that begin with **Ask HN** or **Show HN**."
   ]
  },
  {
   "cell_type": "code",
   "execution_count": 3,
   "metadata": {},
   "outputs": [
    {
     "name": "stdout",
     "output_type": "stream",
     "text": [
      "9139\n",
      "10158\n",
      "273822\n"
     ]
    }
   ],
   "source": [
    "ask_posts=[]\n",
    "show_posts=[]\n",
    "other_posts=[]\n",
    "\n",
    "#String method startswith() check if string starts with specific string\n",
    "for row in hn:\n",
    "    title=row[1]\n",
    "    title=title.lower()\n",
    "    if title.startswith('ask hn'): \n",
    "        ask_posts.append(row)\n",
    "    elif title.startswith('show hn'):\n",
    "        show_posts.append(row)\n",
    "    else:\n",
    "        other_posts.append(row)\n",
    "\n",
    "#Number of posts in ask_posts, show_posts, and other_posts        \n",
    "print(len(ask_posts))\n",
    "print(len(show_posts))\n",
    "print(len(other_posts))       "
   ]
  },
  {
   "cell_type": "markdown",
   "metadata": {},
   "source": [
    "**4. Calculating the Average Number of Comments for Ask HN and Show HN Posts**\n",
    "\n",
    "Bellow are the first five rows in the ask_posts list of lists:"
   ]
  },
  {
   "cell_type": "code",
   "execution_count": 4,
   "metadata": {},
   "outputs": [
    {
     "name": "stdout",
     "output_type": "stream",
     "text": [
      "[['12578908', 'Ask HN: What TLD do you use for local development?', '', '4', '7', 'Sevrene', '9/26/2016 2:53'], ['12578522', 'Ask HN: How do you pass on your work when you die?', '', '6', '3', 'PascLeRasc', '9/26/2016 1:17'], ['12577908', 'Ask HN: How a DNS problem can be limited to a geographic region?', '', '1', '0', 'kuon', '9/25/2016 22:57'], ['12577870', 'Ask HN: Why join a fund when you can be an angel?', '', '1', '3', 'anthony_james', '9/25/2016 22:48'], ['12577647', 'Ask HN: Someone uses stock trading as passive income?', '', '5', '2', '00taffe', '9/25/2016 21:50']]\n"
     ]
    }
   ],
   "source": [
    "print(ask_posts[:5])"
   ]
  },
  {
   "cell_type": "markdown",
   "metadata": {},
   "source": [
    " First five rows in the `show_posts` and `other_posts` list of lists:"
   ]
  },
  {
   "cell_type": "code",
   "execution_count": 37,
   "metadata": {},
   "outputs": [
    {
     "name": "stdout",
     "output_type": "stream",
     "text": [
      "[['12578335', 'Show HN: Finding puns computationally', 'http://puns.samueltaylor.org/', '2', '0', 'saamm', '9/26/2016 0:36'], ['12578182', 'Show HN: A simple library for complicated animations', 'https://christinecha.github.io/choreographer-js/', '1', '0', 'christinecha', '9/26/2016 0:01'], ['12578098', 'Show HN: WebGL visualization of DNA sequences', 'http://grondilu.github.io/dna.html', '1', '0', 'grondilu', '9/25/2016 23:44'], ['12577991', 'Show HN: Pomodoro-centric, heirarchical project management with ES6 modules', 'https://github.com/jakebian/zeal', '2', '0', 'dbranes', '9/25/2016 23:17'], ['12577142', 'Show HN: Jumble  Essays on the go #PaulInYourPocket', 'https://itunes.apple.com/us/app/jumble-find-startup-essay/id1150939197?ls=1&mt=8', '1', '1', 'ryderj', '9/25/2016 20:06']]\n",
      "\n",
      "\n",
      "[['12579008', 'You have two days to comment if you want stem cells to be classified as your own', 'http://www.regulations.gov/document?D=FDA-2015-D-3719-0018', '1', '0', 'altstar', '9/26/2016 3:26'], ['12579005', 'SQLAR  the SQLite Archiver', 'https://www.sqlite.org/sqlar/doc/trunk/README.md', '1', '0', 'blacksqr', '9/26/2016 3:24'], ['12578997', 'What if we just printed a flatscreen television on the side of our boxes?', 'https://medium.com/vanmoof/our-secrets-out-f21c1f03fdc8#.ietxmez43', '1', '0', 'pavel_lishin', '9/26/2016 3:19'], ['12578989', 'algorithmic music', 'http://cacm.acm.org/magazines/2011/7/109891-algorithmic-composition/fulltext', '1', '0', 'poindontcare', '9/26/2016 3:16'], ['12578979', 'How the Data Vault Enables the Next-Gen Data Warehouse and Data Lake', 'https://www.talend.com/blog/2016/05/12/talend-and-Â\\x93the-data-vaultÂ\\x94', '1', '0', 'markgainor1', '9/26/2016 3:14']]\n"
     ]
    }
   ],
   "source": [
    "print(show_posts[:5])\n",
    "print('\\n')\n",
    "print(other_posts[:5])"
   ]
  },
  {
   "cell_type": "markdown",
   "metadata": {},
   "source": [
    "**Find the total number of comments in each kind of posts**"
   ]
  },
  {
   "cell_type": "code",
   "execution_count": 38,
   "metadata": {},
   "outputs": [
    {
     "name": "stdout",
     "output_type": "stream",
     "text": [
      "10.393478498741656\n"
     ]
    }
   ],
   "source": [
    "#Total number of comments in ask posts\n",
    "total_ask_comments=0\n",
    "\n",
    "for i in ask_posts:\n",
    "    num_comments=int(i[4])\n",
    "    total_ask_comments+=num_comments\n",
    "avg_ask_comments=total_ask_comments/len(ask_posts)\n",
    "print(avg_ask_comments)"
   ]
  },
  {
   "cell_type": "code",
   "execution_count": 39,
   "metadata": {},
   "outputs": [
    {
     "name": "stdout",
     "output_type": "stream",
     "text": [
      "4.886099625910612\n"
     ]
    }
   ],
   "source": [
    "#Total number  of comments in show posts\n",
    "total_show_comments=0\n",
    "\n",
    "for j in show_posts:\n",
    "    total_show_comments+=int(j[4])\n",
    "\n",
    "avg_show_comments=total_show_comments/len(show_posts)\n",
    "print(avg_show_comments)"
   ]
  },
  {
   "cell_type": "code",
   "execution_count": 40,
   "metadata": {},
   "outputs": [
    {
     "name": "stdout",
     "output_type": "stream",
     "text": [
      "6.4572678601427205\n"
     ]
    }
   ],
   "source": [
    "#Total number  of comments in other posts\n",
    "total_other_comments=0\n",
    "\n",
    "for m in other_posts:\n",
    "    total_other_comments+=int(m[4])\n",
    "\n",
    "avg_other_comments=total_other_comments/len(other_posts)\n",
    "print(avg_other_comments)"
   ]
  },
  {
   "cell_type": "markdown",
   "metadata": {},
   "source": [
    "On average, ask posts receive more than double the number of comments on show post and much higher than number of comments on other posts. \n",
    "\n",
    "This trend can be explained by the fact that people love to be asked. They tend to react more with the post asking for their opinion. The other posts show the information which limits the ability to interact between post and readers.\n",
    "\n",
    "Next, we'll determine if ask posts created at a certain time are more likely to attract comments.\n",
    "\n",
    "* Calculate the amount of ask posts created in each hour of the day, along with the number of comments received.\n",
    "* Calculate the average number of comments ask posts receive by hour created."
   ]
  },
  {
   "cell_type": "markdown",
   "metadata": {},
   "source": [
    "**5. Finding the Amount of Ask Posts and Comments by Hour Created**\n",
    "\n",
    "Create list containing info about time and number of comments for each post:"
   ]
  },
  {
   "cell_type": "code",
   "execution_count": 41,
   "metadata": {},
   "outputs": [
    {
     "name": "stdout",
     "output_type": "stream",
     "text": [
      "[['9/26/2016 2:53', 7], ['9/26/2016 1:17', 3], ['9/25/2016 22:57', 0], ['9/25/2016 22:48', 3], ['9/25/2016 21:50', 2]]\n"
     ]
    }
   ],
   "source": [
    "import datetime as dt\n",
    "\n",
    "result_list=[]\n",
    "for i in ask_posts:\n",
    "    created_at=i[-1]\n",
    "    n_comments=int(i[4])\n",
    "    result=[created_at,n_comments]\n",
    "    result_list.append(result)\n",
    "\n",
    "print(result_list[:5])   "
   ]
  },
  {
   "cell_type": "markdown",
   "metadata": {},
   "source": [
    "Count number of post and number of comment during each hour of the day:"
   ]
  },
  {
   "cell_type": "code",
   "execution_count": 43,
   "metadata": {},
   "outputs": [
    {
     "name": "stdout",
     "output_type": "stream",
     "text": [
      "{'02': 269, '01': 282, '22': 383, '21': 518, '19': 552, '17': 587, '15': 646, '14': 513, '13': 444, '11': 312, '10': 282, '09': 222, '07': 226, '03': 271, '23': 343, '20': 510, '16': 579, '08': 257, '00': 301, '18': 614, '12': 342, '04': 243, '06': 234, '05': 209}\n",
      "\n",
      "\n",
      "{'02': 2996, '01': 2089, '22': 3372, '21': 4500, '19': 3954, '17': 5547, '15': 18525, '14': 4972, '13': 7245, '11': 2797, '10': 3013, '09': 1477, '07': 1585, '03': 2154, '23': 2297, '20': 4462, '16': 4466, '08': 2362, '00': 2277, '18': 4877, '12': 4234, '04': 2360, '06': 1587, '05': 1838}\n"
     ]
    }
   ],
   "source": [
    "counts_by_hour={}\n",
    "comments_by_hour={}\n",
    "\n",
    "for row in result_list:\n",
    "    datetime_1=dt.datetime.strptime(row[0],'%m/%d/%Y %H:%M')\n",
    "    hour_created=datetime_1.strftime('%H')\n",
    "    \n",
    "    if hour_created not in counts_by_hour:\n",
    "        counts_by_hour[hour_created]=1\n",
    "        comments_by_hour[hour_created]=row[1]\n",
    "    else:\n",
    "        counts_by_hour[hour_created]+=1\n",
    "        comments_by_hour[hour_created]+=row[1]\n",
    "\n",
    "print(counts_by_hour)\n",
    "print('\\n')\n",
    "print(comments_by_hour)        "
   ]
  },
  {
   "cell_type": "markdown",
   "metadata": {},
   "source": [
    "**6. Calculating the Average Number of Comments for Ask HN Posts by Hour**"
   ]
  },
  {
   "cell_type": "code",
   "execution_count": 44,
   "metadata": {},
   "outputs": [
    {
     "name": "stdout",
     "output_type": "stream",
     "text": [
      "[['02', 11.137546468401487], ['01', 7.407801418439717], ['22', 8.804177545691905], ['21', 8.687258687258687], ['19', 7.163043478260869], ['17', 9.449744463373083], ['15', 28.676470588235293], ['14', 9.692007797270955], ['13', 16.31756756756757], ['11', 8.96474358974359], ['10', 10.684397163120567], ['09', 6.653153153153153], ['07', 7.013274336283186], ['03', 7.948339483394834], ['23', 6.696793002915452], ['20', 8.749019607843136], ['16', 7.713298791018998], ['08', 9.190661478599221], ['00', 7.5647840531561465], ['18', 7.94299674267101], ['12', 12.380116959064328], ['04', 9.7119341563786], ['06', 6.782051282051282], ['05', 8.794258373205741]]\n"
     ]
    }
   ],
   "source": [
    "avg_by_hour=[]\n",
    "for hour in counts_by_hour:\n",
    "    avg_comments=comments_by_hour[hour]/counts_by_hour[hour]\n",
    "    avg_by_hour.append([hour,avg_comments])\n",
    "\n",
    "print(avg_by_hour)    "
   ]
  },
  {
   "cell_type": "markdown",
   "metadata": {},
   "source": [
    "**7. Sorting and Printing Values from a List of Lists**\n",
    "\n",
    "Although we now have the results we need, this format makes it hard to identify the hours with the highest values. \n",
    "We will sort the list of lists and printing the five highest values in a format that's easier to read."
   ]
  },
  {
   "cell_type": "code",
   "execution_count": 47,
   "metadata": {},
   "outputs": [
    {
     "name": "stdout",
     "output_type": "stream",
     "text": [
      "[[11.137546468401487, '02'], [7.407801418439717, '01'], [8.804177545691905, '22'], [8.687258687258687, '21'], [7.163043478260869, '19'], [9.449744463373083, '17'], [28.676470588235293, '15'], [9.692007797270955, '14'], [16.31756756756757, '13'], [8.96474358974359, '11'], [10.684397163120567, '10'], [6.653153153153153, '09'], [7.013274336283186, '07'], [7.948339483394834, '03'], [6.696793002915452, '23'], [8.749019607843136, '20'], [7.713298791018998, '16'], [9.190661478599221, '08'], [7.5647840531561465, '00'], [7.94299674267101, '18'], [12.380116959064328, '12'], [9.7119341563786, '04'], [6.782051282051282, '06'], [8.794258373205741, '05']]\n"
     ]
    }
   ],
   "source": [
    "#Swap position of hour and number of comments in list avg_by_hour\n",
    "swap_avg_by_hour=[]\n",
    "for i in avg_by_hour:\n",
    "    hour=i[0]\n",
    "    comments=i[1]\n",
    "    swap_avg_by_hour.append([comments,hour])\n",
    "print(swap_avg_by_hour)"
   ]
  },
  {
   "cell_type": "code",
   "execution_count": 48,
   "metadata": {},
   "outputs": [],
   "source": [
    "sorted_swap=sorted(swap_avg_by_hour,reverse=True)"
   ]
  },
  {
   "cell_type": "code",
   "execution_count": 49,
   "metadata": {},
   "outputs": [
    {
     "name": "stdout",
     "output_type": "stream",
     "text": [
      "Top 5 Hours for Ask Posts Comments:\n",
      "[[28.676470588235293, '15'], [16.31756756756757, '13'], [12.380116959064328, '12'], [11.137546468401487, '02'], [10.684397163120567, '10']]\n"
     ]
    }
   ],
   "source": [
    "print('Top 5 Hours for Ask Posts Comments:')\n",
    "print(sorted_swap[:5])"
   ]
  },
  {
   "cell_type": "code",
   "execution_count": 23,
   "metadata": {},
   "outputs": [
    {
     "name": "stdout",
     "output_type": "stream",
     "text": [
      "15:00: 28.68 average comments per post\n",
      "13:00: 16.32 average comments per post\n",
      "12:00: 12.38 average comments per post\n",
      "02:00: 11.14 average comments per post\n",
      "10:00: 10.68 average comments per post\n"
     ]
    }
   ],
   "source": [
    "for row in sorted_swap[:5]:\n",
    "    hour=dt.datetime.strptime(row[1], '%H')\n",
    "    hour1=hour.strftime('%H:%M')\n",
    "    print('{0}: {1:.2f} average comments per post'.format(hour1,row[0]))\n",
    "    "
   ]
  },
  {
   "cell_type": "markdown",
   "metadata": {},
   "source": [
    "To have a higher chance of receiving comments you should create a post during midday from 10:00 to 15:00 (GMT-4) or at 2:00 (GMT-4) at night.\n"
   ]
  },
  {
   "cell_type": "markdown",
   "metadata": {},
   "source": [
    "**8. Whether show or ask posts receive more points on average**"
   ]
  },
  {
   "cell_type": "code",
   "execution_count": 24,
   "metadata": {},
   "outputs": [
    {
     "name": "stdout",
     "output_type": "stream",
     "text": [
      "The average points of ask posts is 11.31\n",
      "The average points of show posts is 14.84\n"
     ]
    }
   ],
   "source": [
    "#Calculate total points and average points of show and ask posts\n",
    "total_ask_points=0\n",
    "for i in ask_posts:\n",
    "    num_points=int(i[3])\n",
    "    total_ask_points+=num_points\n",
    "avg_ask_points=total_ask_points/len(ask_posts)\n",
    "print('The average points of ask posts is {:.2f}'.format(avg_ask_points))\n",
    "\n",
    "total_show_points=0\n",
    "for i in show_posts:\n",
    "    num_points=int(i[3])\n",
    "    total_show_points+=num_points\n",
    "avg_show_points=total_show_points/len(show_posts)\n",
    "print('The average points of show posts is {:.2f}'.format(avg_show_points))\n"
   ]
  },
  {
   "cell_type": "markdown",
   "metadata": {},
   "source": [
    "**9. Whether posts created at a certain time are more likely to receive more points**"
   ]
  },
  {
   "cell_type": "code",
   "execution_count": 25,
   "metadata": {},
   "outputs": [
    {
     "name": "stdout",
     "output_type": "stream",
     "text": [
      "[['9/26/2016 3:26', 1], ['9/26/2016 3:24', 1], ['9/26/2016 3:19', 1], ['9/26/2016 3:16', 1], ['9/26/2016 3:14', 1]]\n"
     ]
    }
   ],
   "source": [
    "#Create a list containing time and the coresponding points \n",
    "points_list=[]\n",
    "for i in hn:\n",
    "    created_time=i[-1]\n",
    "    n_points=int(i[3])\n",
    "    points_result=[created_time,n_points]\n",
    "    points_list.append(points_result)\n",
    "print(points_list[:5])"
   ]
  },
  {
   "cell_type": "code",
   "execution_count": 51,
   "metadata": {},
   "outputs": [
    {
     "name": "stdout",
     "output_type": "stream",
     "text": [
      "{'03': 7126, '02': 7455, '01': 7920, '00': 8968, '23': 10382, '22': 12417, '21': 14516, '20': 15955, '19': 17037, '18': 18676, '17': 19711, '16': 20170, '15': 19525, '14': 18138, '13': 15928, '12': 12734, '11': 10352, '10': 9735, '09': 9052, '08': 8503, '07': 7800, '06': 7380, '05': 6536, '04': 7103}\n",
      "\n",
      "\n",
      "{'03': 106963, '02': 122308, '01': 123198, '00': 142411, '23': 150586, '22': 175427, '21': 211648, '20': 217113, '19': 261733, '18': 285365, '17': 295414, '16': 292660, '15': 288149, '14': 254874, '13': 256591, '12': 213752, '11': 167629, '10': 146362, '09': 131245, '08': 127044, '07': 114972, '06': 108858, '05': 100497, '04': 109409}\n"
     ]
    }
   ],
   "source": [
    "time_by_hour={}\n",
    "points_by_hour={}\n",
    "for row in points_list:\n",
    "    datetime_2=dt.datetime.strptime(row[0],'%m/%d/%Y %H:%M')\n",
    "    time_created=datetime_2.strftime('%H')\n",
    "    if time_created not in time_by_hour:\n",
    "        time_by_hour[time_created]=1\n",
    "        points_by_hour[time_created]=row[1]\n",
    "    else:\n",
    "        time_by_hour[time_created]+=1\n",
    "        points_by_hour[time_created]+=row[1]\n",
    "        \n",
    "print(time_by_hour)\n",
    "print('\\n')\n",
    "print(points_by_hour)"
   ]
  },
  {
   "cell_type": "markdown",
   "metadata": {},
   "source": [
    "**Calculate the average points during each hour in a day**"
   ]
  },
  {
   "cell_type": "code",
   "execution_count": 27,
   "metadata": {},
   "outputs": [
    {
     "name": "stdout",
     "output_type": "stream",
     "text": [
      "[['03', 15.010244176255965], ['02', 16.40617035546613], ['01', 15.55530303030303], ['00', 15.879906333630688], ['23', 14.5045270660759], ['22', 14.12796971893372], ['21', 14.580325158445852], ['20', 13.607834534628642], ['19', 15.362622527440276], ['18', 15.279770828871278], ['17', 14.98726599360763], ['16', 14.509667823500248], ['15', 14.757951344430218], ['14', 14.051935163744625], ['13', 16.109429934706178], ['12', 16.785927438354012], ['11', 16.192909582689335], ['10', 15.03461736004109], ['09', 14.499005744586832], ['08', 14.941079618958014], ['07', 14.74], ['06', 14.75040650406504], ['05', 15.375917992656058], ['04', 15.403209911305082]]\n"
     ]
    }
   ],
   "source": [
    "avgpoints_by_hour=[]\n",
    "for hour in time_by_hour:\n",
    "    avg_points=points_by_hour[hour]/time_by_hour[hour]\n",
    "    avgpoints_by_hour.append([hour,avg_points])\n",
    "print(avgpoints_by_hour)"
   ]
  },
  {
   "cell_type": "markdown",
   "metadata": {},
   "source": [
    "Swap list avgpoints_by_hour to sort the list"
   ]
  },
  {
   "cell_type": "code",
   "execution_count": 28,
   "metadata": {},
   "outputs": [
    {
     "name": "stdout",
     "output_type": "stream",
     "text": [
      "[[16.785927438354012, '12'], [16.40617035546613, '02'], [16.192909582689335, '11'], [16.109429934706178, '13'], [15.879906333630688, '00'], [15.55530303030303, '01'], [15.403209911305082, '04'], [15.375917992656058, '05'], [15.362622527440276, '19'], [15.279770828871278, '18'], [15.03461736004109, '10'], [15.010244176255965, '03'], [14.98726599360763, '17'], [14.941079618958014, '08'], [14.757951344430218, '15'], [14.75040650406504, '06'], [14.74, '07'], [14.580325158445852, '21'], [14.509667823500248, '16'], [14.5045270660759, '23'], [14.499005744586832, '09'], [14.12796971893372, '22'], [14.051935163744625, '14'], [13.607834534628642, '20']]\n"
     ]
    }
   ],
   "source": [
    "swap_avgpoints_by_hour=[]\n",
    "for row in avgpoints_by_hour:\n",
    "    elm_1=row[1]\n",
    "    elm_2=row [0]\n",
    "    swap_avgpoints_by_hour.append([elm_1,elm_2])\n",
    "sorted_swap_points=sorted(swap_avgpoints_by_hour,reverse=True)\n",
    "print(sorted_swap_points)"
   ]
  },
  {
   "cell_type": "markdown",
   "metadata": {},
   "source": [
    "**Top 5 Hours having Highest Points:**"
   ]
  },
  {
   "cell_type": "code",
   "execution_count": 52,
   "metadata": {},
   "outputs": [
    {
     "name": "stdout",
     "output_type": "stream",
     "text": [
      "12:00: 16.79 average points per post\n",
      "02:00: 16.41 average points per post\n",
      "11:00: 16.19 average points per post\n",
      "13:00: 16.11 average points per post\n",
      "00:00: 15.88 average points per post\n"
     ]
    }
   ],
   "source": [
    "for row in sorted_swap_points[:5]:\n",
    "    hour=dt.datetime.strptime(row[1], '%H')\n",
    "    hour1=hour.strftime('%H:%M')\n",
    "    print('{0}: {1:.2f} average points per post'.format(hour1,row[0]))\n",
    "    "
   ]
  },
  {
   "cell_type": "markdown",
   "metadata": {},
   "source": [
    "Posts on the lunch time or break at midday have highest points. Besides, posts in midnight also receive high points among other time.\n"
   ]
  },
  {
   "cell_type": "markdown",
   "metadata": {},
   "source": [
    "**10. Compare with the average number of comments and points other posts receive**"
   ]
  },
  {
   "cell_type": "code",
   "execution_count": 30,
   "metadata": {},
   "outputs": [
    {
     "name": "stdout",
     "output_type": "stream",
     "text": [
      "The average points of other posts is 14.84\n"
     ]
    }
   ],
   "source": [
    "#Calcualte the average points of other posts\n",
    "total_other_points=0\n",
    "for i in other_posts:\n",
    "    num_points=int(i[3])\n",
    "    total_ask_points+=num_points\n",
    "avg_other_points=total_other_points/len(other_posts)\n",
    "print('The average points of other posts is {:.2f}'.format(avg_show_points))"
   ]
  },
  {
   "cell_type": "code",
   "execution_count": 31,
   "metadata": {},
   "outputs": [
    {
     "name": "stdout",
     "output_type": "stream",
     "text": [
      "The average number of comments is higher points for other posts: True\n"
     ]
    }
   ],
   "source": [
    "#Compare average number of comments and points other posts\n",
    "compare=avg_other_comments>avg_other_points\n",
    "print(\"The average number of comments is higher points for other posts: {}\".format(compare))"
   ]
  }
 ],
 "metadata": {
  "kernelspec": {
   "display_name": "Python 3",
   "language": "python",
   "name": "python3"
  },
  "language_info": {
   "codemirror_mode": {
    "name": "ipython",
    "version": 3
   },
   "file_extension": ".py",
   "mimetype": "text/x-python",
   "name": "python",
   "nbconvert_exporter": "python",
   "pygments_lexer": "ipython3",
   "version": "3.7.3"
  }
 },
 "nbformat": 4,
 "nbformat_minor": 2
}
