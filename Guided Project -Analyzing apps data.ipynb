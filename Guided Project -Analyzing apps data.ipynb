{
 "cells": [
  {
   "cell_type": "markdown",
   "metadata": {},
   "source": [
    "# Analyzing Mobile App Profiles\n",
    "* Finding which type of free apps are more attractive for users or which type of apps having more users in Google Play and App Store\n",
    "* Give recomendations about genre to build a new apps"
   ]
  },
  {
   "cell_type": "markdown",
   "metadata": {},
   "source": [
    "**1. Opening two data sets**"
   ]
  },
  {
   "cell_type": "code",
   "execution_count": 1,
   "metadata": {},
   "outputs": [],
   "source": [
    "opened_file1 = open('AppleStore.csv', encoding='utf8')\n",
    "opened_file2=open('googleplaystore.csv',encoding='utf8')\n",
    "from csv import reader\n",
    "read_file1 = reader(opened_file1)\n",
    "read_file2=reader(opened_file2)\n",
    "apple_data = list(read_file1)\n",
    "google_data=list(read_file2)"
   ]
  },
  {
   "cell_type": "markdown",
   "metadata": {},
   "source": [
    "**2. Exploring data**\n",
    "\n",
    "Exploring two data sets using the `explore_data()` function"
   ]
  },
  {
   "cell_type": "code",
   "execution_count": 2,
   "metadata": {},
   "outputs": [
    {
     "name": "stdout",
     "output_type": "stream",
     "text": [
      "['1', '281656475', 'PAC-MAN Premium', '100788224', 'USD', '3.99', '21292', '26', '4', '4.5', '6.3.5', '4+', 'Games', '38', '5', '10', '1']\n",
      "\n",
      "\n",
      "['2', '281796108', 'Evernote - stay organized', '158578688', 'USD', '0', '161065', '26', '4', '3.5', '8.2.2', '4+', 'Productivity', '37', '5', '23', '1']\n",
      "\n",
      "\n",
      "['3', '281940292', 'WeatherBug - Local Weather, Radar, Maps, Alerts', '100524032', 'USD', '0', '188583', '2822', '3.5', '4.5', '5.0.0', '4+', 'Weather', '37', '5', '3', '1']\n",
      "\n",
      "\n",
      "Number of rows: 7198\n",
      "Number of columns: 17\n",
      "\n",
      "\n",
      "['Photo Editor & Candy Camera & Grid & ScrapBook', 'ART_AND_DESIGN', '4.1', '159', '19M', '10,000+', 'Free', '0', 'Everyone', 'Art & Design', 'January 7, 2018', '1.0.0', '4.0.3 and up']\n",
      "\n",
      "\n",
      "['Coloring book moana', 'ART_AND_DESIGN', '3.9', '967', '14M', '500,000+', 'Free', '0', 'Everyone', 'Art & Design;Pretend Play', 'January 15, 2018', '2.0.0', '4.0.3 and up']\n",
      "\n",
      "\n",
      "['U Launcher Lite – FREE Live Cool Themes, Hide Apps', 'ART_AND_DESIGN', '4.7', '87510', '8.7M', '5,000,000+', 'Free', '0', 'Everyone', 'Art & Design', 'August 1, 2018', '1.2.4', '4.0.3 and up']\n",
      "\n",
      "\n",
      "Number of rows: 10842\n",
      "Number of columns: 13\n",
      "\n",
      "\n"
     ]
    }
   ],
   "source": [
    "#Define a function to explore data set\n",
    "def explore_data(dataset, start, end, rows_and_columns=False):\n",
    "    dataset_slide=dataset[start:end]\n",
    "    for row in dataset_slide[:3]:\n",
    "        print(row)\n",
    "        print('\\n') #adds a new (empty) line after each row\n",
    "    if rows_and_columns:\n",
    "        print('Number of rows:', len(dataset))\n",
    "        print('Number of columns:', len(dataset[0]))\n",
    "    print('\\n')\n",
    "\n",
    "#Apply function about on apple_data and google_data    \n",
    "explore_data(apple_data,1,len(apple_data),1)\n",
    "explore_data(google_data,1,len(google_data),1)"
   ]
  },
  {
   "cell_type": "markdown",
   "metadata": {},
   "source": [
    "**List of column:**\n",
    "* Link google store data: https://www.kaggle.com/lava18/google-play-store-apps/home\n",
    "* Link apple store data: https://www.kaggle.com/ramamet4/app-store-apple-data-set-10k-apps/home"
   ]
  },
  {
   "cell_type": "code",
   "execution_count": 3,
   "metadata": {},
   "outputs": [
    {
     "name": "stdout",
     "output_type": "stream",
     "text": [
      "List of columns in dataset:\n",
      "\n",
      "\n",
      "\n",
      "id\n",
      "\n",
      "\n",
      "track_name\n",
      "\n",
      "\n",
      "size_bytes\n",
      "\n",
      "\n",
      "currency\n",
      "\n",
      "\n",
      "price\n",
      "\n",
      "\n",
      "rating_count_tot\n",
      "\n",
      "\n",
      "rating_count_ver\n",
      "\n",
      "\n",
      "user_rating\n",
      "\n",
      "\n",
      "user_rating_ver\n",
      "\n",
      "\n",
      "ver\n",
      "\n",
      "\n",
      "cont_rating\n",
      "\n",
      "\n",
      "prime_genre\n",
      "\n",
      "\n",
      "sup_devices.num\n",
      "\n",
      "\n",
      "ipadSc_urls.num\n",
      "\n",
      "\n",
      "lang.num\n",
      "\n",
      "\n",
      "vpp_lic\n",
      "\n",
      "\n",
      "None\n",
      "List of columns in dataset:\n",
      "App\n",
      "\n",
      "\n",
      "Category\n",
      "\n",
      "\n",
      "Rating\n",
      "\n",
      "\n",
      "Reviews\n",
      "\n",
      "\n",
      "Size\n",
      "\n",
      "\n",
      "Installs\n",
      "\n",
      "\n",
      "Type\n",
      "\n",
      "\n",
      "Price\n",
      "\n",
      "\n",
      "Content Rating\n",
      "\n",
      "\n",
      "Genres\n",
      "\n",
      "\n",
      "Last Updated\n",
      "\n",
      "\n",
      "Current Ver\n",
      "\n",
      "\n",
      "Android Ver\n",
      "\n",
      "\n"
     ]
    }
   ],
   "source": [
    "#Define a function print out column name of data set\n",
    "def column_name(dataset):\n",
    "    print('List of columns in dataset:')\n",
    "    for i in dataset[0]:\n",
    "        print (i)\n",
    "        print('\\n')\n",
    "        \n",
    "print(column_name(apple_data))\n",
    "\n",
    "column_name(google_data)"
   ]
  },
  {
   "cell_type": "markdown",
   "metadata": {},
   "source": [
    "**Note**\n",
    "\n",
    "The first column is name of the app. Normally it must be unique, otherwise we have duplicates."
   ]
  },
  {
   "cell_type": "markdown",
   "metadata": {},
   "source": [
    "**3. Data cleaning**\n",
    "\n",
    "* Detect inaccurate, duplicate data\n",
    "* Correcting wrong data and removing duplicates\n",
    "* Modifying the data to fit the purpose of our analysis"
   ]
  },
  {
   "cell_type": "code",
   "execution_count": 4,
   "metadata": {},
   "outputs": [
    {
     "name": "stdout",
     "output_type": "stream",
     "text": [
      "['Life Made WI-Fi Touchscreen Photo Frame', '1.9', '19', '3.0M', '1,000+', 'Free', '0', 'Everyone', '', 'February 11, 2018', '1.0.19', '4.0 and up']\n"
     ]
    }
   ],
   "source": [
    "print(google_data[10473])"
   ]
  },
  {
   "cell_type": "markdown",
   "metadata": {},
   "source": [
    "This data point miss the column `Category` and 1.9 is the rating of the app"
   ]
  },
  {
   "cell_type": "markdown",
   "metadata": {},
   "source": [
    "You can remove the row having error using the `del` statement. For example here we delete the row 10473:"
   ]
  },
  {
   "cell_type": "code",
   "execution_count": 5,
   "metadata": {},
   "outputs": [],
   "source": [
    "del google_data[10473]"
   ]
  },
  {
   "cell_type": "markdown",
   "metadata": {},
   "source": [
    "**Finding duplicates**"
   ]
  },
  {
   "cell_type": "code",
   "execution_count": 6,
   "metadata": {},
   "outputs": [
    {
     "name": "stdout",
     "output_type": "stream",
     "text": [
      "Number of duplicate apps: 1181\n",
      "\n",
      "\n",
      "Examples of duplicate apps: ['Quick PDF Scanner + OCR FREE', 'Box', 'Google My Business', 'ZOOM Cloud Meetings', 'join.me - Simple Meetings', 'Box', 'Zenefits', 'Google Ads', 'Google My Business', 'Slack']\n"
     ]
    }
   ],
   "source": [
    "duplicate_apps=[]\n",
    "unique_apps=[]\n",
    "for app in google_data:\n",
    "    name=app[0]\n",
    "    if name in unique_apps:\n",
    "        duplicate_apps.append(name)\n",
    "    else:\n",
    "        unique_apps.append(name)\n",
    "print('Number of duplicate apps:', len(duplicate_apps))\n",
    "print('\\n')\n",
    "print('Examples of duplicate apps:', duplicate_apps[:10])"
   ]
  },
  {
   "cell_type": "markdown",
   "metadata": {},
   "source": [
    "Print out any duplicates in apple_data"
   ]
  },
  {
   "cell_type": "code",
   "execution_count": 7,
   "metadata": {},
   "outputs": [
    {
     "name": "stdout",
     "output_type": "stream",
     "text": [
      "Number of duplicate apps: 0\n",
      "\n",
      "\n",
      "Examples of duplicate apps: []\n"
     ]
    }
   ],
   "source": [
    "duplicate_apps=[]\n",
    "unique_apps=[]\n",
    "for app in apple_data:\n",
    "    name=app[0]\n",
    "    if name in unique_apps:\n",
    "        duplicate_apps.append(name)\n",
    "    else:\n",
    "        unique_apps.append(name)\n",
    "print('Number of duplicate apps:', len(duplicate_apps))\n",
    "print('\\n')\n",
    "print('Examples of duplicate apps:', duplicate_apps[:10])"
   ]
  },
  {
   "cell_type": "markdown",
   "metadata": {},
   "source": [
    "In the AppleStore data set there is no duplicate.\n",
    "\n",
    "**An example of duplicates data** `Instagram`"
   ]
  },
  {
   "cell_type": "code",
   "execution_count": 8,
   "metadata": {},
   "outputs": [
    {
     "name": "stdout",
     "output_type": "stream",
     "text": [
      "['Instagram', 'SOCIAL', '4.5', '66577313', 'Varies with device', '1,000,000,000+', 'Free', '0', 'Teen', 'Social', 'July 31, 2018', 'Varies with device', 'Varies with device']\n",
      "['Instagram', 'SOCIAL', '4.5', '66577446', 'Varies with device', '1,000,000,000+', 'Free', '0', 'Teen', 'Social', 'July 31, 2018', 'Varies with device', 'Varies with device']\n",
      "['Instagram', 'SOCIAL', '4.5', '66577313', 'Varies with device', '1,000,000,000+', 'Free', '0', 'Teen', 'Social', 'July 31, 2018', 'Varies with device', 'Varies with device']\n",
      "['Instagram', 'SOCIAL', '4.5', '66509917', 'Varies with device', '1,000,000,000+', 'Free', '0', 'Teen', 'Social', 'July 31, 2018', 'Varies with device', 'Varies with device']\n"
     ]
    }
   ],
   "source": [
    "for app in google_data:\n",
    "    name=app[0]\n",
    "    if name=='Instagram':\n",
    "        print(app)"
   ]
  },
  {
   "cell_type": "markdown",
   "metadata": {},
   "source": [
    "Instagram appears 4 times in the data sets so we need to delete the duplicates:\n",
    "\n",
    "* Keep the row with the highest number of reviews (it show the more recent data)\n",
    "* Remove the other entries for anny given app\n"
   ]
  },
  {
   "cell_type": "code",
   "execution_count": 9,
   "metadata": {},
   "outputs": [
    {
     "name": "stdout",
     "output_type": "stream",
     "text": [
      "Expected length: 10840\n"
     ]
    }
   ],
   "source": [
    "print('Expected length:', len(google_data[1:])-len(duplicate_apps))"
   ]
  },
  {
   "cell_type": "markdown",
   "metadata": {},
   "source": [
    "* Create a dictionary with key is name of app and value is highest number of review for that app (which is in column 4)"
   ]
  },
  {
   "cell_type": "code",
   "execution_count": 10,
   "metadata": {},
   "outputs": [
    {
     "name": "stdout",
     "output_type": "stream",
     "text": [
      "9659\n"
     ]
    }
   ],
   "source": [
    "reviews_max={}\n",
    "for app in google_data[1:]:\n",
    "    name= app[0]\n",
    "    n_review=float(app[3])\n",
    "    if name in reviews_max and reviews_max[name]<n_review:\n",
    "        reviews_max[name]=n_review\n",
    "    if name not in reviews_max:\n",
    "        reviews_max[name]=n_review\n",
    "print(len(reviews_max))"
   ]
  },
  {
   "cell_type": "markdown",
   "metadata": {},
   "source": [
    "* Create a cleaning list without duplicates based on the dictionary above"
   ]
  },
  {
   "cell_type": "code",
   "execution_count": 11,
   "metadata": {},
   "outputs": [],
   "source": [
    "android_clean=[]\n",
    "already_added=[]\n",
    "for app in google_data[1:]:\n",
    "    name=app[0]\n",
    "    n_review=float(app[3])\n",
    "    if (n_review == reviews_max[name]) and (name not in already_added):\n",
    "        android_clean.append(app)\n",
    "        already_added.append(name)"
   ]
  },
  {
   "cell_type": "markdown",
   "metadata": {},
   "source": [
    "* Check whether the cleaning list is correct"
   ]
  },
  {
   "cell_type": "code",
   "execution_count": 12,
   "metadata": {},
   "outputs": [
    {
     "name": "stdout",
     "output_type": "stream",
     "text": [
      "9659\n"
     ]
    }
   ],
   "source": [
    "print(len(android_clean))"
   ]
  },
  {
   "cell_type": "markdown",
   "metadata": {},
   "source": [
    "**Removing Non-English Apps**\n",
    "\n",
    "* We use English for the apps we develop at our company so we'd like to analyze only the apps that are directed toward an English-speaker.\n",
    "* Thus we will remove them from the dataset.\n",
    "* We remove app with a name containing symplo that is not commonly used in English text (the English alphabet, numbers, punctuation marks, and other symbols).\n",
    "* Each character used in a string has a associated corresponding number. We can get that number by using the `ord()` function. This range from `0 to 127` according to the `ASCII` system."
   ]
  },
  {
   "cell_type": "code",
   "execution_count": 13,
   "metadata": {},
   "outputs": [
    {
     "name": "stdout",
     "output_type": "stream",
     "text": [
      "97\n",
      "43\n",
      "29233\n"
     ]
    }
   ],
   "source": [
    "print(ord('a'))\n",
    "print(ord('+'))\n",
    "print(ord('爱'))"
   ]
  },
  {
   "cell_type": "markdown",
   "metadata": {},
   "source": [
    "* Therefore if an app name contains a character that is greater than 17 then it probably means that the app has a non-English name.\n",
    "* In Python, strings are indexable and iterable, which means that we an use index to select an indivisual character and iterate on the string using a for loop."
   ]
  },
  {
   "cell_type": "code",
   "execution_count": 14,
   "metadata": {},
   "outputs": [
    {
     "name": "stdout",
     "output_type": "stream",
     "text": [
      "b\n",
      "a\n",
      "b\n",
      "c\n"
     ]
    }
   ],
   "source": [
    "string= 'abc'\n",
    "print(string[1])\n",
    "for character in string:\n",
    "    print(character)"
   ]
  },
  {
   "cell_type": "code",
   "execution_count": 15,
   "metadata": {},
   "outputs": [
    {
     "data": {
      "text/plain": [
       "False"
      ]
     },
     "execution_count": 15,
     "metadata": {},
     "output_type": "execute_result"
    }
   ],
   "source": [
    "def check_string (string):\n",
    "    for i in string:\n",
    "        if ord(i) >127:\n",
    "            return False\n",
    "    return True\n",
    "\n",
    "check_string('Instagram')\n",
    "check_string('爱奇艺PPS -《欢乐颂2》电视剧热播')\n",
    "check_string('Docs To Go™ Free Office Suite')\n",
    "check_string('Instachat 😜')"
   ]
  },
  {
   "cell_type": "markdown",
   "metadata": {},
   "source": [
    "* Return a string which is not English when there are more than 3 non-ASCII characters."
   ]
  },
  {
   "cell_type": "code",
   "execution_count": 16,
   "metadata": {},
   "outputs": [
    {
     "data": {
      "text/plain": [
       "False"
      ]
     },
     "execution_count": 16,
     "metadata": {},
     "output_type": "execute_result"
    }
   ],
   "source": [
    "def check_string (string):\n",
    "    non_Eng=0\n",
    "    for i in string:\n",
    "        if ord(i) >127:\n",
    "            non_Eng+=1\n",
    "    if non_Eng>3:\n",
    "        return False\n",
    "    else:\n",
    "        return True\n",
    "    \n",
    "check_string('Docs To Go™ Free Office Suite')\n",
    "check_string('Instachat 😜')\n",
    "check_string('爱奇艺PPS -《欢乐颂2》电视剧热播')"
   ]
  },
  {
   "cell_type": "markdown",
   "metadata": {},
   "source": [
    "**Filter out non-English apps**"
   ]
  },
  {
   "cell_type": "code",
   "execution_count": 17,
   "metadata": {},
   "outputs": [
    {
     "name": "stdout",
     "output_type": "stream",
     "text": [
      "['Photo Editor & Candy Camera & Grid & ScrapBook', 'ART_AND_DESIGN', '4.1', '159', '19M', '10,000+', 'Free', '0', 'Everyone', 'Art & Design', 'January 7, 2018', '1.0.0', '4.0.3 and up']\n",
      "\n",
      "\n",
      "['U Launcher Lite – FREE Live Cool Themes, Hide Apps', 'ART_AND_DESIGN', '4.7', '87510', '8.7M', '5,000,000+', 'Free', '0', 'Everyone', 'Art & Design', 'August 1, 2018', '1.2.4', '4.0.3 and up']\n",
      "\n",
      "\n",
      "['Sketch - Draw & Paint', 'ART_AND_DESIGN', '4.5', '215644', '25M', '50,000,000+', 'Free', '0', 'Teen', 'Art & Design', 'June 8, 2018', 'Varies with device', '4.2 and up']\n",
      "\n",
      "\n",
      "Number of rows: 9614\n",
      "Number of columns: 13\n",
      "\n",
      "\n",
      "\n",
      "\n",
      "['1', '281656475', 'PAC-MAN Premium', '100788224', 'USD', '3.99', '21292', '26', '4', '4.5', '6.3.5', '4+', 'Games', '38', '5', '10', '1']\n",
      "\n",
      "\n",
      "['2', '281796108', 'Evernote - stay organized', '158578688', 'USD', '0', '161065', '26', '4', '3.5', '8.2.2', '4+', 'Productivity', '37', '5', '23', '1']\n",
      "\n",
      "\n",
      "['3', '281940292', 'WeatherBug - Local Weather, Radar, Maps, Alerts', '100524032', 'USD', '0', '188583', '2822', '3.5', '4.5', '5.0.0', '4+', 'Weather', '37', '5', '3', '1']\n",
      "\n",
      "\n",
      "Number of rows: 6183\n",
      "Number of columns: 17\n",
      "\n",
      "\n"
     ]
    }
   ],
   "source": [
    "android_Eng=[]\n",
    "for app in android_clean:\n",
    "    if check_string(app[0]) is True:\n",
    "        android_Eng.append(app)\n",
    "ios_Eng=[]\n",
    "for app in apple_data[1:]:\n",
    "    name=app[2]\n",
    "    if check_string(name) is True:\n",
    "        ios_Eng.append(app)\n",
    "explore_data(android_Eng,0,3,True)\n",
    "print('\\n')\n",
    "explore_data(ios_Eng,0,3,True)"
   ]
  },
  {
   "cell_type": "markdown",
   "metadata": {},
   "source": [
    "* Isolate the free apps in separate lists"
   ]
  },
  {
   "cell_type": "code",
   "execution_count": 18,
   "metadata": {},
   "outputs": [
    {
     "name": "stdout",
     "output_type": "stream",
     "text": [
      "8864\n",
      "3222\n"
     ]
    }
   ],
   "source": [
    "android_clean_free=[]\n",
    "ios_free=[]\n",
    "for app in android_Eng:\n",
    "    price=app[7]\n",
    "    if price =='0':\n",
    "        android_clean_free.append(app)\n",
    "for app in ios_Eng:\n",
    "    price=app[5]\n",
    "    if price=='0':\n",
    "        ios_free.append(app)\n",
    "print(len(android_clean_free))\n",
    "print(len(ios_free))"
   ]
  },
  {
   "cell_type": "markdown",
   "metadata": {},
   "source": [
    "**4. Strategy for new app**\n",
    "\n",
    "* Build a minimal Android version of the app, and add it to Google play\n",
    "* If the app has a good response from users, we develop it further\n",
    "* If the app is profitable after six months, we build an iOS version of the app and add it to the App Store.\n",
    "\n",
    "=> Finding apps which are success in both market\n",
    "* Finding the most common genres for each market\n",
    "\n",
    "=> Create table of frequency for each genres\n",
    "* In the AppStore data set, genres are displayed in `prime_genre` column\n",
    "* `Category` or `Genres` column in Google Play datasest shows the genre of app"
   ]
  },
  {
   "cell_type": "markdown",
   "metadata": {},
   "source": [
    "**Create a function to return the frequency table**"
   ]
  },
  {
   "cell_type": "code",
   "execution_count": 19,
   "metadata": {},
   "outputs": [],
   "source": [
    "def freq_table(dataset, index):\n",
    "    frequency_table={}\n",
    "    for i in dataset:\n",
    "        value=i[index]\n",
    "        if value in frequency_table:\n",
    "            frequency_table[value]+=1\n",
    "        else:\n",
    "            frequency_table[value]=1\n",
    "    for value in frequency_table:\n",
    "        frequency_table[value]=frequency_table[value]/len(dataset)*100\n",
    "    return frequency_table\n",
    "        "
   ]
  },
  {
   "cell_type": "markdown",
   "metadata": {},
   "source": [
    "**Prints the entries of the frequency table in descending order**"
   ]
  },
  {
   "cell_type": "code",
   "execution_count": 20,
   "metadata": {},
   "outputs": [
    {
     "name": "stdout",
     "output_type": "stream",
     "text": [
      "FAMILY : 18.907942238267147\n",
      "GAME : 9.724729241877256\n",
      "TOOLS : 8.461191335740072\n",
      "BUSINESS : 4.591606498194946\n",
      "LIFESTYLE : 3.9034296028880866\n",
      "PRODUCTIVITY : 3.892148014440433\n",
      "FINANCE : 3.7003610108303246\n",
      "MEDICAL : 3.531137184115524\n",
      "SPORTS : 3.395758122743682\n",
      "PERSONALIZATION : 3.3167870036101084\n",
      "COMMUNICATION : 3.2378158844765346\n",
      "HEALTH_AND_FITNESS : 3.0798736462093865\n",
      "PHOTOGRAPHY : 2.944494584837545\n",
      "NEWS_AND_MAGAZINES : 2.7978339350180503\n",
      "SOCIAL : 2.6624548736462095\n",
      "TRAVEL_AND_LOCAL : 2.33528880866426\n",
      "SHOPPING : 2.2450361010830324\n",
      "BOOKS_AND_REFERENCE : 2.1435018050541514\n",
      "DATING : 1.861462093862816\n",
      "VIDEO_PLAYERS : 1.7937725631768955\n",
      "MAPS_AND_NAVIGATION : 1.3989169675090252\n",
      "FOOD_AND_DRINK : 1.2409747292418771\n",
      "EDUCATION : 1.1620036101083033\n",
      "ENTERTAINMENT : 0.9589350180505415\n",
      "LIBRARIES_AND_DEMO : 0.9363718411552346\n",
      "AUTO_AND_VEHICLES : 0.9250902527075812\n",
      "HOUSE_AND_HOME : 0.8235559566787004\n",
      "WEATHER : 0.8009927797833934\n",
      "EVENTS : 0.7107400722021661\n",
      "PARENTING : 0.6543321299638989\n",
      "ART_AND_DESIGN : 0.6430505415162455\n",
      "COMICS : 0.6204873646209386\n",
      "BEAUTY : 0.5979241877256317\n"
     ]
    }
   ],
   "source": [
    "def display_table(dataset, index):\n",
    "    table = freq_table(dataset, index)\n",
    "    table_display = []\n",
    "    for key in table:\n",
    "        key_val_as_tuple = (table[key], key)\n",
    "        table_display.append(key_val_as_tuple)\n",
    "\n",
    "    table_sorted = sorted(table_display, reverse = True)\n",
    "    for entry in table_sorted:\n",
    "        print(entry[1], ':', entry[0])\n",
    "\n",
    "display_table(android_clean_free,1)"
   ]
  },
  {
   "cell_type": "markdown",
   "metadata": {},
   "source": [
    "The Google Play data set shows different trend from App Store. Most of the top apps display practical purposes, for instance family, tools, business, productivity, finance.\n",
    "At the end of the list of frequency are about art, design, comics and beauty.\n",
    "The categogies are divided into more genres than AppStore.\n",
    "The most common apps appearing in both Google Play and App Store are Entertainment and Education. Although they do not show a significant part, they have potential to exploit."
   ]
  },
  {
   "cell_type": "code",
   "execution_count": 21,
   "metadata": {},
   "outputs": [
    {
     "name": "stdout",
     "output_type": "stream",
     "text": [
      "Tools : 8.449909747292418\n",
      "Entertainment : 6.069494584837545\n",
      "Education : 5.347472924187725\n",
      "Business : 4.591606498194946\n",
      "Productivity : 3.892148014440433\n",
      "Lifestyle : 3.892148014440433\n",
      "Finance : 3.7003610108303246\n",
      "Medical : 3.531137184115524\n",
      "Sports : 3.463447653429603\n",
      "Personalization : 3.3167870036101084\n",
      "Communication : 3.2378158844765346\n",
      "Action : 3.1024368231046933\n",
      "Health & Fitness : 3.0798736462093865\n",
      "Photography : 2.944494584837545\n",
      "News & Magazines : 2.7978339350180503\n",
      "Social : 2.6624548736462095\n",
      "Travel & Local : 2.3240072202166067\n",
      "Shopping : 2.2450361010830324\n",
      "Books & Reference : 2.1435018050541514\n",
      "Simulation : 2.0419675090252705\n",
      "Dating : 1.861462093862816\n",
      "Arcade : 1.8501805054151623\n",
      "Video Players & Editors : 1.7712093862815883\n",
      "Casual : 1.7599277978339352\n",
      "Maps & Navigation : 1.3989169675090252\n",
      "Food & Drink : 1.2409747292418771\n",
      "Puzzle : 1.128158844765343\n",
      "Racing : 0.9927797833935018\n",
      "Role Playing : 0.9363718411552346\n",
      "Libraries & Demo : 0.9363718411552346\n",
      "Auto & Vehicles : 0.9250902527075812\n",
      "Strategy : 0.9138086642599278\n",
      "House & Home : 0.8235559566787004\n",
      "Weather : 0.8009927797833934\n",
      "Events : 0.7107400722021661\n",
      "Adventure : 0.6768953068592057\n",
      "Comics : 0.6092057761732852\n",
      "Beauty : 0.5979241877256317\n",
      "Art & Design : 0.5979241877256317\n",
      "Parenting : 0.4963898916967509\n",
      "Card : 0.45126353790613716\n",
      "Casino : 0.42870036101083037\n",
      "Trivia : 0.41741877256317694\n",
      "Educational;Education : 0.39485559566787\n",
      "Board : 0.3835740072202166\n",
      "Educational : 0.3722924187725632\n",
      "Education;Education : 0.33844765342960287\n",
      "Word : 0.2594765342960289\n",
      "Casual;Pretend Play : 0.236913357400722\n",
      "Music : 0.2030685920577617\n",
      "Racing;Action & Adventure : 0.16922382671480143\n",
      "Puzzle;Brain Games : 0.16922382671480143\n",
      "Entertainment;Music & Video : 0.16922382671480143\n",
      "Casual;Brain Games : 0.13537906137184114\n",
      "Casual;Action & Adventure : 0.13537906137184114\n",
      "Arcade;Action & Adventure : 0.12409747292418773\n",
      "Action;Action & Adventure : 0.10153429602888085\n",
      "Educational;Pretend Play : 0.09025270758122744\n",
      "Simulation;Action & Adventure : 0.078971119133574\n",
      "Parenting;Education : 0.078971119133574\n",
      "Entertainment;Brain Games : 0.078971119133574\n",
      "Board;Brain Games : 0.078971119133574\n",
      "Parenting;Music & Video : 0.06768953068592057\n",
      "Educational;Brain Games : 0.06768953068592057\n",
      "Casual;Creativity : 0.06768953068592057\n",
      "Art & Design;Creativity : 0.06768953068592057\n",
      "Education;Pretend Play : 0.056407942238267145\n",
      "Role Playing;Pretend Play : 0.04512635379061372\n",
      "Education;Creativity : 0.04512635379061372\n",
      "Role Playing;Action & Adventure : 0.033844765342960284\n",
      "Puzzle;Action & Adventure : 0.033844765342960284\n",
      "Entertainment;Creativity : 0.033844765342960284\n",
      "Entertainment;Action & Adventure : 0.033844765342960284\n",
      "Educational;Creativity : 0.033844765342960284\n",
      "Educational;Action & Adventure : 0.033844765342960284\n",
      "Education;Music & Video : 0.033844765342960284\n",
      "Education;Brain Games : 0.033844765342960284\n",
      "Education;Action & Adventure : 0.033844765342960284\n",
      "Adventure;Action & Adventure : 0.033844765342960284\n",
      "Video Players & Editors;Music & Video : 0.02256317689530686\n",
      "Sports;Action & Adventure : 0.02256317689530686\n",
      "Simulation;Pretend Play : 0.02256317689530686\n",
      "Puzzle;Creativity : 0.02256317689530686\n",
      "Music;Music & Video : 0.02256317689530686\n",
      "Entertainment;Pretend Play : 0.02256317689530686\n",
      "Casual;Education : 0.02256317689530686\n",
      "Board;Action & Adventure : 0.02256317689530686\n",
      "Video Players & Editors;Creativity : 0.01128158844765343\n",
      "Trivia;Education : 0.01128158844765343\n",
      "Travel & Local;Action & Adventure : 0.01128158844765343\n",
      "Tools;Education : 0.01128158844765343\n",
      "Strategy;Education : 0.01128158844765343\n",
      "Strategy;Creativity : 0.01128158844765343\n",
      "Strategy;Action & Adventure : 0.01128158844765343\n",
      "Simulation;Education : 0.01128158844765343\n",
      "Role Playing;Brain Games : 0.01128158844765343\n",
      "Racing;Pretend Play : 0.01128158844765343\n",
      "Puzzle;Education : 0.01128158844765343\n",
      "Parenting;Brain Games : 0.01128158844765343\n",
      "Music & Audio;Music & Video : 0.01128158844765343\n",
      "Lifestyle;Pretend Play : 0.01128158844765343\n",
      "Lifestyle;Education : 0.01128158844765343\n",
      "Health & Fitness;Education : 0.01128158844765343\n",
      "Health & Fitness;Action & Adventure : 0.01128158844765343\n",
      "Entertainment;Education : 0.01128158844765343\n",
      "Communication;Creativity : 0.01128158844765343\n",
      "Comics;Creativity : 0.01128158844765343\n",
      "Casual;Music & Video : 0.01128158844765343\n",
      "Card;Action & Adventure : 0.01128158844765343\n",
      "Books & Reference;Education : 0.01128158844765343\n",
      "Art & Design;Pretend Play : 0.01128158844765343\n",
      "Art & Design;Action & Adventure : 0.01128158844765343\n",
      "Arcade;Pretend Play : 0.01128158844765343\n",
      "Adventure;Education : 0.01128158844765343\n"
     ]
    }
   ],
   "source": [
    "display_table(android_clean_free, -4)"
   ]
  },
  {
   "cell_type": "code",
   "execution_count": 22,
   "metadata": {},
   "outputs": [
    {
     "name": "stdout",
     "output_type": "stream",
     "text": [
      "Games : 58.16263190564867\n",
      "Entertainment : 7.883302296710118\n",
      "Photo & Video : 4.9658597144630665\n",
      "Education : 3.662321539416512\n",
      "Social Networking : 3.2898820608317814\n",
      "Shopping : 2.60707635009311\n",
      "Utilities : 2.5139664804469275\n",
      "Sports : 2.1415270018621975\n",
      "Music : 2.0484171322160147\n",
      "Health & Fitness : 2.0173805090006205\n",
      "Productivity : 1.7380509000620732\n",
      "Lifestyle : 1.5828677839851024\n",
      "News : 1.3345747982619491\n",
      "Travel : 1.2414649286157666\n",
      "Finance : 1.1173184357541899\n",
      "Weather : 0.8690254500310366\n",
      "Food & Drink : 0.8069522036002483\n",
      "Reference : 0.5586592178770949\n",
      "Business : 0.5276225946617008\n",
      "Book : 0.4345127250155183\n",
      "Navigation : 0.186219739292365\n",
      "Medical : 0.186219739292365\n",
      "Catalogs : 0.12414649286157665\n"
     ]
    }
   ],
   "source": [
    "display_table(ios_free,-5)"
   ]
  },
  {
   "cell_type": "markdown",
   "metadata": {},
   "source": [
    "* The most common genre is `Games`, accounting for nearly 60% total number of ios apps and the less popular is `Catalogs`. Most of the apps designed for entertaining purposes, for example games, enterntainment, photo & video, or social network. Secondly is about practical purpose with education, shopping, utility, sport, healthy & fitness...\n",
    "* Although Games genre takes up a large part in total number of apps, it doesn't mean that we should invest in developing a game app. In contrast, it creates a competition between game apps and this is an obstacle to approach app market.\n",
    "\n"
   ]
  },
  {
   "cell_type": "markdown",
   "metadata": {},
   "source": [
    "**Find the type of app with the most users**\n",
    "* We can canculate the average number of installs for each app genre. In the Google Play data set, we use information in the `Installs` column\n",
    "* This information is not available in App Store so we use the average number of user ratings per app genre.\n",
    "\n",
    "**To do that, we need**\n",
    "- Divide apps in to genre\n",
    "- Total number of user ratings for each app of that genre\n",
    "- Divide by the number of apps in that genre\n"
   ]
  },
  {
   "cell_type": "markdown",
   "metadata": {},
   "source": [
    "**Apps with the most users on the App Store by Genre**"
   ]
  },
  {
   "cell_type": "code",
   "execution_count": 23,
   "metadata": {},
   "outputs": [
    {
     "name": "stdout",
     "output_type": "stream",
     "text": [
      "Productivity : 21028.410714285714\n",
      "Weather : 52279.892857142855\n",
      "Shopping : 26919.690476190477\n",
      "Reference : 74942.11111111111\n",
      "Finance : 31467.944444444445\n",
      "Music : 57326.530303030304\n",
      "Utilities : 18684.456790123455\n",
      "Travel : 28243.8\n",
      "Social Networking : 71548.34905660378\n",
      "Sports : 23008.898550724636\n",
      "Health & Fitness : 23298.015384615384\n",
      "Games : 22788.6696905016\n",
      "Food & Drink : 33333.92307692308\n",
      "News : 21248.023255813954\n",
      "Book : 39758.5\n",
      "Photo & Video : 28441.54375\n",
      "Entertainment : 14029.830708661417\n",
      "Business : 7491.117647058823\n",
      "Lifestyle : 16485.764705882353\n",
      "Education : 7003.983050847458\n",
      "Navigation : 86090.33333333333\n",
      "Medical : 612.0\n",
      "Catalogs : 4004.0\n",
      "Navigation : 86090.33333333333\n",
      "Reference : 74942.11111111111\n",
      "Social Networking : 71548.34905660378\n",
      "Music : 57326.530303030304\n",
      "Weather : 52279.892857142855\n",
      "Book : 39758.5\n",
      "Food & Drink : 33333.92307692308\n",
      "Finance : 31467.944444444445\n",
      "Photo & Video : 28441.54375\n",
      "Travel : 28243.8\n",
      "Shopping : 26919.690476190477\n",
      "Health & Fitness : 23298.015384615384\n",
      "Sports : 23008.898550724636\n",
      "Games : 22788.6696905016\n",
      "News : 21248.023255813954\n",
      "Productivity : 21028.410714285714\n",
      "Utilities : 18684.456790123455\n",
      "Lifestyle : 16485.764705882353\n",
      "Entertainment : 14029.830708661417\n",
      "Business : 7491.117647058823\n",
      "Education : 7003.983050847458\n",
      "Catalogs : 4004.0\n",
      "Medical : 612.0\n",
      "None\n"
     ]
    }
   ],
   "source": [
    "#Define a function to show table on reversed order\n",
    "def reversed_table(table):\n",
    "    table_display = []\n",
    "    for key in table:\n",
    "        key_val_as_tuple = (table[key], key)\n",
    "        table_display.append(key_val_as_tuple)\n",
    "\n",
    "    table_sorted = sorted(table_display, reverse = True)\n",
    "    for entry in table_sorted:\n",
    "        print(entry[1], ':', entry[0])\n",
    "\n",
    "#Calculate average number of user ratings per app genre         \n",
    "freq_user_ios={}\n",
    "for genre in freq_table(ios_free, -5):\n",
    "    total=0\n",
    "    len_genre=0\n",
    "    for app in ios_free:\n",
    "        genre_app=app[-5]\n",
    "        if genre_app==genre:\n",
    "            n_ratings=float(app[6])\n",
    "            total+=n_ratings\n",
    "            len_genre+=1\n",
    "    avg_user_ratings=total/len_genre\n",
    "    print(genre,':', avg_user_ratings)\n",
    "    freq_user_ios[genre]=avg_user_ratings\n",
    "    \n",
    "print(reversed_table(freq_user_ios))"
   ]
  },
  {
   "cell_type": "markdown",
   "metadata": {},
   "source": [
    "**Apps with the most users on the Google Play by Genre**"
   ]
  },
  {
   "cell_type": "code",
   "execution_count": 24,
   "metadata": {},
   "outputs": [
    {
     "name": "stdout",
     "output_type": "stream",
     "text": [
      "ART_AND_DESIGN : 1986335.0877192982\n",
      "AUTO_AND_VEHICLES : 647317.8170731707\n",
      "BEAUTY : 513151.88679245283\n",
      "BOOKS_AND_REFERENCE : 8767811.894736841\n",
      "BUSINESS : 1712290.1474201474\n",
      "COMICS : 817657.2727272727\n",
      "COMMUNICATION : 38456119.167247385\n",
      "DATING : 854028.8303030303\n",
      "EDUCATION : 1833495.145631068\n",
      "ENTERTAINMENT : 11640705.88235294\n",
      "EVENTS : 253542.22222222222\n",
      "FINANCE : 1387692.475609756\n",
      "FOOD_AND_DRINK : 1924897.7363636363\n",
      "HEALTH_AND_FITNESS : 4188821.9853479853\n",
      "HOUSE_AND_HOME : 1331540.5616438356\n",
      "LIBRARIES_AND_DEMO : 638503.734939759\n",
      "LIFESTYLE : 1437816.2687861272\n",
      "GAME : 15588015.603248259\n",
      "FAMILY : 3695641.8198090694\n",
      "MEDICAL : 120550.61980830671\n",
      "SOCIAL : 23253652.127118643\n",
      "SHOPPING : 7036877.311557789\n",
      "PHOTOGRAPHY : 17840110.40229885\n",
      "SPORTS : 3638640.1428571427\n",
      "TRAVEL_AND_LOCAL : 13984077.710144928\n",
      "TOOLS : 10801391.298666667\n",
      "PERSONALIZATION : 5201482.6122448975\n",
      "PRODUCTIVITY : 16787331.344927534\n",
      "PARENTING : 542603.6206896552\n",
      "WEATHER : 5074486.197183099\n",
      "VIDEO_PLAYERS : 24727872.452830188\n",
      "NEWS_AND_MAGAZINES : 9549178.467741935\n",
      "MAPS_AND_NAVIGATION : 4056941.7741935486\n",
      "COMMUNICATION : 38456119.167247385\n",
      "VIDEO_PLAYERS : 24727872.452830188\n",
      "SOCIAL : 23253652.127118643\n",
      "PHOTOGRAPHY : 17840110.40229885\n",
      "PRODUCTIVITY : 16787331.344927534\n",
      "GAME : 15588015.603248259\n",
      "TRAVEL_AND_LOCAL : 13984077.710144928\n",
      "ENTERTAINMENT : 11640705.88235294\n",
      "TOOLS : 10801391.298666667\n",
      "NEWS_AND_MAGAZINES : 9549178.467741935\n",
      "BOOKS_AND_REFERENCE : 8767811.894736841\n",
      "SHOPPING : 7036877.311557789\n",
      "PERSONALIZATION : 5201482.6122448975\n",
      "WEATHER : 5074486.197183099\n",
      "HEALTH_AND_FITNESS : 4188821.9853479853\n",
      "MAPS_AND_NAVIGATION : 4056941.7741935486\n",
      "FAMILY : 3695641.8198090694\n",
      "SPORTS : 3638640.1428571427\n",
      "ART_AND_DESIGN : 1986335.0877192982\n",
      "FOOD_AND_DRINK : 1924897.7363636363\n",
      "EDUCATION : 1833495.145631068\n",
      "BUSINESS : 1712290.1474201474\n",
      "LIFESTYLE : 1437816.2687861272\n",
      "FINANCE : 1387692.475609756\n",
      "HOUSE_AND_HOME : 1331540.5616438356\n",
      "DATING : 854028.8303030303\n",
      "COMICS : 817657.2727272727\n",
      "AUTO_AND_VEHICLES : 647317.8170731707\n",
      "LIBRARIES_AND_DEMO : 638503.734939759\n",
      "PARENTING : 542603.6206896552\n",
      "BEAUTY : 513151.88679245283\n",
      "EVENTS : 253542.22222222222\n",
      "MEDICAL : 120550.61980830671\n",
      "None\n"
     ]
    }
   ],
   "source": [
    "freq_user={}\n",
    "for genre in freq_table(android_clean_free,1):\n",
    "    total=0\n",
    "    len_genre=0\n",
    "    for i in android_clean_free:\n",
    "        genre_app=i[1]\n",
    "        if genre_app==genre:\n",
    "            n_user_ratings=i[5]\n",
    "            n_user_ratings=n_user_ratings.replace(',','')\n",
    "            n_user_ratings=n_user_ratings.replace('+','')\n",
    "            total+=float(n_user_ratings)\n",
    "            len_genre+=1\n",
    "    avg_user_ratings=total/len_genre\n",
    "    print(genre,':', avg_user_ratings)\n",
    "    freq_user[genre]=avg_user_ratings\n",
    "print(reversed_table(freq_user))\n"
   ]
  },
  {
   "cell_type": "markdown",
   "metadata": {},
   "source": [
    "`Communication` is the category with the highest number of average user while `Medical` stands at the last position in this list.\n",
    "People tend to use apps for entertaining than practical purposes.\n"
   ]
  },
  {
   "cell_type": "code",
   "execution_count": null,
   "metadata": {},
   "outputs": [],
   "source": []
  }
 ],
 "metadata": {
  "kernelspec": {
   "display_name": "Python 3",
   "language": "python",
   "name": "python3"
  },
  "language_info": {
   "codemirror_mode": {
    "name": "ipython",
    "version": 3
   },
   "file_extension": ".py",
   "mimetype": "text/x-python",
   "name": "python",
   "nbconvert_exporter": "python",
   "pygments_lexer": "ipython3",
   "version": "3.7.3"
  }
 },
 "nbformat": 4,
 "nbformat_minor": 2
}
